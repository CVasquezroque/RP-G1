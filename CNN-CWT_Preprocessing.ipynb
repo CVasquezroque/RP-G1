{
 "cells": [
  {
   "cell_type": "code",
   "execution_count": 1,
   "outputs": [
    {
     "name": "stdout",
     "output_type": "stream",
     "text": [
      "1\n"
     ]
    }
   ],
   "source": [
    "print(1)"
   ],
   "metadata": {
    "collapsed": false,
    "pycharm": {
     "name": "#%%\n"
    }
   }
  },
  {
   "cell_type": "code",
   "execution_count": 2,
   "metadata": {
    "collapsed": true
   },
   "outputs": [],
   "source": [
    "import pickle\n",
    "from concurrent.futures import ProcessPoolExecutor\n",
    "from pathlib import Path\n",
    "\n",
    "import joblib\n",
    "import numpy as np\n",
    "import scipy.signal as sg\n",
    "import wfdb\n",
    "\n",
    "PATH = Path(\"dataset\")\n",
    "sampling_rate = 360\n",
    "\n",
    "# non-beat labels\n",
    "invalid_labels = ['|', '~', '!', '+', '[', ']', '\"', 'x']\n",
    "\n",
    "# for correct R-peak location\n",
    "tol = 0.05\n",
    "\n",
    "print\n",
    "\n",
    "def worker(record):\n",
    "    # read ML II signal & r-peaks position and labels\n",
    "    signal = wfdb.rdrecord((PATH / record).as_posix(), channels=[0]).p_signal[:, 0]\n",
    "\n",
    "    annotation = wfdb.rdann((PATH / record).as_posix(), extension=\"atr\")\n",
    "    r_peaks, labels = annotation.sample, np.array(annotation.symbol)\n",
    "\n",
    "    # filtering uses a 200-ms width median filter and 600-ms width median filter\n",
    "    baseline = sg.medfilt(sg.medfilt(signal, int(0.2 * sampling_rate) - 1), int(0.6 * sampling_rate) - 1)\n",
    "    filtered_signal = signal - baseline\n",
    "\n",
    "    # remove non-beat labels\n",
    "    indices = [i for i, label in enumerate(labels) if label not in invalid_labels]\n",
    "    r_peaks, labels = r_peaks[indices], labels[indices]\n",
    "\n",
    "    # align r-peaks\n",
    "    newR = []\n",
    "    for r_peak in r_peaks:\n",
    "        r_left = np.maximum(r_peak - int(tol * sampling_rate), 0)\n",
    "        r_right = np.minimum(r_peak + int(tol * sampling_rate), len(filtered_signal))\n",
    "        newR.append(r_left + np.argmax(filtered_signal[r_left:r_right]))\n",
    "    r_peaks = np.array(newR, dtype=\"int\")\n",
    "\n",
    "    # remove inter-patient variation\n",
    "    normalized_signal = filtered_signal / np.mean(filtered_signal[r_peaks])\n",
    "\n",
    "    # AAMI categories\n",
    "    AAMI = {\n",
    "        \"N\": 0, \"L\": 0, \"R\": 0, \"e\": 0, \"j\": 0,  # N\n",
    "        \"A\": 1, \"a\": 1, \"S\": 1, \"J\": 1,  # SVEB\n",
    "        \"V\": 2, \"E\": 2,  # VEB\n",
    "        \"F\": 3,  # F\n",
    "        \"/\": 4, \"f\": 4, \"Q\": 4  # Q\n",
    "    }\n",
    "    categories = [AAMI[label] for label in labels]\n",
    "\n",
    "    return {\n",
    "        \"record\": record,\n",
    "        \"signal\": normalized_signal, \"r_peaks\": r_peaks, \"categories\": categories\n",
    "    }"
   ]
  },
  {
   "cell_type": "code",
   "execution_count": 3,
   "outputs": [
    {
     "name": "stdout",
     "output_type": "stream",
     "text": [
      "train processing...\n",
      "c logro\n",
      "test processing...\n",
      "c logro\n",
      "ok!\n"
     ]
    }
   ],
   "source": [
    "if __name__ == \"__main__\":\n",
    "    # for multi-processing\n",
    "    cpus = 22 if joblib.cpu_count() > 22 else joblib.cpu_count() - 1\n",
    "\n",
    "    train_records = [\n",
    "        '101', '106', '108', '109', '112', '114', '115', '116', '118', '119',\n",
    "        '122', '124', '201', '203', '205', '207', '208', '209', '215', '220',\n",
    "        '223', '230'\n",
    "    ]\n",
    "    print(\"train processing...\")\n",
    "    #with ProcessPoolExecutor(max_workers=cpus) as executor:\n",
    "\n",
    "    train_data = []\n",
    "    for record in train_records:\n",
    "        train_data.append(worker(record))\n",
    "\n",
    "    print('c logro')\n",
    "    test_records = [\n",
    "        '100', '103', '105', '111', '113', '117', '121', '123', '200', '202',\n",
    "        '210', '212', '213', '214', '219', '221', '222', '228', '231', '232',\n",
    "        '233', '234'\n",
    "    ]\n",
    "    print(\"test processing...\")\n",
    "\n",
    "    test_data = []\n",
    "    for record in test_records:\n",
    "        test_data.append(worker(record))\n",
    "\n",
    "    print(\"c logro\")\n",
    "\n",
    "    with open((PATH / \"mitdb.pkl\").as_posix(), \"wb\") as f:\n",
    "        pickle.dump((train_data, test_data), f, protocol=4)\n",
    "\n",
    "    print(\"ok!\")"
   ],
   "metadata": {
    "collapsed": false,
    "pycharm": {
     "name": "#%%\n"
    }
   }
  },
  {
   "cell_type": "code",
   "execution_count": 4,
   "outputs": [],
   "source": [
    "PATH = Path(\"dataset\")\n",
    "record = '114'\n",
    "\n",
    "signal = wfdb.rdrecord((PATH / record).as_posix(), channels=[0]).p_signal[:, 0]\n",
    "\n",
    "annotation = wfdb.rdann((PATH / record).as_posix(), extension=\"atr\")\n",
    "r_peaks, labels = annotation.sample, np.array(annotation.symbol)\n",
    "\n",
    "# filtering uses a 200-ms width median filter and 600-ms width median filter\n",
    "baseline = sg.medfilt(sg.medfilt(signal, int(0.2 * sampling_rate) - 1), int(0.6 * sampling_rate) - 1)\n",
    "filtered_signal = signal - baseline\n",
    "\n",
    "# remove non-beat labels\n",
    "indices = [i for i, label in enumerate(labels) if label not in invalid_labels]\n",
    "r_peaks, labels = r_peaks[indices], labels[indices]\n",
    "\n",
    "\n",
    "# align r-peaks\n",
    "newR = []\n",
    "for r_peak in r_peaks:\n",
    "    r_left = np.maximum(r_peak - int(tol * sampling_rate), 0)\n",
    "    r_right = np.minimum(r_peak + int(tol * sampling_rate), len(filtered_signal))\n",
    "    newR.append(r_left + np.argmax(filtered_signal[r_left:r_right]))\n",
    "r_peaks = np.array(newR, dtype=\"int\")\n",
    "\n",
    "# remove inter-patient variation\n",
    "normalized_signal = filtered_signal / np.mean(filtered_signal[r_peaks])\n",
    "\n",
    "# AAMI categories\n",
    "AAMI = {\n",
    "    \"N\": 0, \"L\": 0, \"R\": 0, \"e\": 0, \"j\": 0,  # N\n",
    "    \"A\": 1, \"a\": 1, \"S\": 1, \"J\": 1,  # SVEB\n",
    "    \"V\": 2, \"E\": 2,  # VEB\n",
    "    \"F\": 3,  # F\n",
    "    \"/\": 4, \"f\": 4, \"Q\": 4  # Q\n",
    "}\n",
    "categories = [AAMI[label] for label in labels]"
   ],
   "metadata": {
    "collapsed": false,
    "pycharm": {
     "name": "#%%\n"
    }
   }
  }
 ],
 "metadata": {
  "kernelspec": {
   "display_name": "Python 3",
   "language": "python",
   "name": "python3"
  },
  "language_info": {
   "codemirror_mode": {
    "name": "ipython",
    "version": 2
   },
   "file_extension": ".py",
   "mimetype": "text/x-python",
   "name": "python",
   "nbconvert_exporter": "python",
   "pygments_lexer": "ipython2",
   "version": "2.7.6"
  }
 },
 "nbformat": 4,
 "nbformat_minor": 0
}