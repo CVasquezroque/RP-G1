{
  "nbformat": 4,
  "nbformat_minor": 0,
  "metadata": {
    "colab": {
      "name": "CNN-LSTM_V1.ipynb",
      "provenance": [],
      "collapsed_sections": [],
      "machine_shape": "hm",
      "include_colab_link": true
    },
    "kernelspec": {
      "name": "python3",
      "display_name": "Python 3"
    }
  },
  "cells": [
    {
      "cell_type": "markdown",
      "metadata": {
        "id": "view-in-github",
        "colab_type": "text"
      },
      "source": [
        "<a href=\"https://colab.research.google.com/github/CVasquezroque/RP-G1/blob/main/CNN_LSTM_V1.ipynb\" target=\"_parent\"><img src=\"https://colab.research.google.com/assets/colab-badge.svg\" alt=\"Open In Colab\"/></a>"
      ]
    },
    {
      "cell_type": "markdown",
      "metadata": {
        "id": "ZKFlZ2_WHMlz"
      },
      "source": [
        "Esta primera Versión de la implementación se siguió en base a la distribución de datos obtenida del trabajo de [Oh. et al, 2018](https://www.sciencedirect.com/science/article/abs/pii/S0010482518301446)"
      ]
    },
    {
      "cell_type": "markdown",
      "metadata": {
        "id": "GpALoDtu03iW"
      },
      "source": [
        "### Descarga de Base de Datos de MIT-BIH y librerías requeridas"
      ]
    },
    {
      "cell_type": "code",
      "metadata": {
        "id": "yiuuAB_KLBjz"
      },
      "source": [
        "!wget -r -N -q -c -np https://physionet.org/files/mitdb/1.0.0/"
      ],
      "execution_count": 1,
      "outputs": []
    },
    {
      "cell_type": "code",
      "metadata": {
        "id": "qiW7pPKFXze9",
        "colab": {
          "base_uri": "https://localhost:8080/"
        },
        "outputId": "5e40020a-d8f8-4dc1-dca8-96a248706dcf"
      },
      "source": [
        "!pip --q install wfdb"
      ],
      "execution_count": 2,
      "outputs": [
        {
          "output_type": "stream",
          "text": [
            "\u001b[?25l\r\u001b[K     |██▍                             | 10kB 11.0MB/s eta 0:00:01\r\u001b[K     |████▊                           | 20kB 13.0MB/s eta 0:00:01\r\u001b[K     |███████▏                        | 30kB 12.5MB/s eta 0:00:01\r\u001b[K     |█████████▌                      | 40kB 10.0MB/s eta 0:00:01\r\u001b[K     |████████████                    | 51kB 5.2MB/s eta 0:00:01\r\u001b[K     |██████████████▎                 | 61kB 5.4MB/s eta 0:00:01\r\u001b[K     |████████████████▊               | 71kB 5.8MB/s eta 0:00:01\r\u001b[K     |███████████████████             | 81kB 6.2MB/s eta 0:00:01\r\u001b[K     |█████████████████████▍          | 92kB 6.2MB/s eta 0:00:01\r\u001b[K     |███████████████████████▉        | 102kB 5.0MB/s eta 0:00:01\r\u001b[K     |██████████████████████████▏     | 112kB 5.0MB/s eta 0:00:01\r\u001b[K     |████████████████████████████▋   | 122kB 5.0MB/s eta 0:00:01\r\u001b[K     |███████████████████████████████ | 133kB 5.0MB/s eta 0:00:01\r\u001b[K     |████████████████████████████████| 143kB 5.0MB/s \n",
            "\u001b[?25h"
          ],
          "name": "stdout"
        }
      ]
    },
    {
      "cell_type": "code",
      "metadata": {
        "id": "EJa2aEZ5YHha"
      },
      "source": [
        "import pywt\n",
        "import math\n",
        "import wfdb\n",
        "import matplotlib.pyplot as plt\n",
        "import pandas as pd\n",
        "import numpy as np\n",
        "\n",
        "import os\n",
        "import glob\n",
        "import scipy.signal as sg\n",
        "from keras.models import Sequential\n",
        "from keras.layers import Dense, Dropout, Conv1D, MaxPooling1D,InputLayer,LSTM\n",
        "from keras.optimizers import  Adam\n",
        "from tensorflow.keras.initializers import GlorotUniform\n",
        "from sklearn.metrics import classification_report, confusion_matrix, plot_confusion_matrix\n",
        "from sklearn.preprocessing import OneHotEncoder,LabelEncoder"
      ],
      "execution_count": 4,
      "outputs": []
    },
    {
      "cell_type": "markdown",
      "metadata": {
        "id": "y1hXLY-z1DiY"
      },
      "source": [
        "### Preprocesamiento de la señal"
      ]
    },
    {
      "cell_type": "code",
      "metadata": {
        "id": "FQEaHEiBYJND",
        "colab": {
          "base_uri": "https://localhost:8080/",
          "height": 35
        },
        "outputId": "4f4c6e6e-3299-471c-ec99-7ac680531117"
      },
      "source": [
        "listFiles = glob.glob('physionet.org/files/mitdb/1.0.0/*.hea')# os.listdir('Training_WFDB/*.hea')\n",
        "listFiles[0]"
      ],
      "execution_count": 6,
      "outputs": [
        {
          "output_type": "execute_result",
          "data": {
            "application/vnd.google.colaboratory.intrinsic+json": {
              "type": "string"
            },
            "text/plain": [
              "'physionet.org/files/mitdb/1.0.0/115.hea'"
            ]
          },
          "metadata": {
            "tags": []
          },
          "execution_count": 6
        }
      ]
    },
    {
      "cell_type": "markdown",
      "metadata": {
        "id": "0gLrpAjf2O7M"
      },
      "source": [
        "Se realizó una alineación de los picos R con la finalidad de homgenizar los segmentos de señales ECG"
      ]
    },
    {
      "cell_type": "code",
      "metadata": {
        "id": "gKI_5_A5C5FH"
      },
      "source": [
        "def align_peaks(filtered_signal,newR,r_peaks,sampling_rate,tol):\n",
        "  for r_peak in r_peaks:\n",
        "      r_left = np.maximum(r_peak - int(tol * sampling_rate), 0)\n",
        "      r_right = np.minimum(r_peak + int(tol * sampling_rate), len(filtered_signal))\n",
        "      newR.append(r_left + np.argmax(filtered_signal[r_left:r_right]))\n",
        "  r_peaks = np.array(newR, dtype=\"int\")\n",
        "  return r_peaks"
      ],
      "execution_count": 8,
      "outputs": []
    },
    {
      "cell_type": "markdown",
      "metadata": {
        "id": "lo3ieYWZ2YP9"
      },
      "source": [
        "Se realizó una segmentación de la señal, tomando 99 muestras previas al pico R y 160 muestras después del siguiente pico R detectado. Asimismo, previo a la segmentación , la señal fue filtrada con 2 filtros de mediana de 200 ms y 600 ms de ancho de ventana, y normalizada.\n",
        "\n",
        "Asimismo las anotaciones fueron agrupadas en base a lo determinado por el AAMI, y las clases definidas se basaron en estas anotaciones (enumeradas de 0 a 4). Sin embargo, siguiendo los modelos de estudio, se descartó la categoría de la clase 4. "
      ]
    },
    {
      "cell_type": "code",
      "metadata": {
        "id": "jn_TCB9C2bDF"
      },
      "source": [
        "def beat_segmentation(paths,fs,invalid_labels,before=99,after=160):\n",
        "  x,y = [],[]\n",
        "  for path in paths:\n",
        "    signal,meta = wfdb.rdsamp(path[:-4],channels=[0])\n",
        "    ann = wfdb.rdann(path[:-4],'atr')\n",
        "    r_peaks, labels = ann.sample, np.array(ann.symbol)\n",
        "    indices = [i for i, label in enumerate(labels) if label not in invalid_labels]\n",
        "    r_peaks, labels = r_peaks[indices], labels[indices]\n",
        "    tol = 0.05\n",
        "    newR = []\n",
        "    r_peaks = align_peaks(signal,newR,r_peaks,fs,tol)\n",
        "    temp_sig = signal.flatten()\n",
        "    baseline = sg.medfilt(sg.medfilt(temp_sig, int(0.2 * fs) - 1), int(0.6 * fs) - 1)\n",
        "    filtered_signal = temp_sig - baseline\n",
        "    filtered_signal = filtered_signal.reshape(len(filtered_signal),1)\n",
        "    normalized_signal = filtered_signal / np.mean(filtered_signal[r_peaks])\n",
        "    AAMI = {\n",
        "    \"N\": 0, \"L\": 0, \"R\": 0, \"e\": 0, \"j\": 0,  # N\n",
        "    \"A\": 1, \"a\": 1, \"S\": 1, \"J\": 1,  # SVEB\n",
        "    \"V\": 2, \"E\": 2,  # VEB\n",
        "    \"F\": 3,  # F\n",
        "    \"/\": 4, \"f\": 4, \"Q\": 4  # Q\n",
        "    }\n",
        "    categories = [AAMI[label] for label in labels]\n",
        "    for i in range(len(r_peaks)):\n",
        "      if i == 0 or i == len(r_peaks) - 1:\n",
        "        continue\n",
        "      if categories[i] == 4:  # remove AAMI Q class\n",
        "        continue     \n",
        "      \n",
        "      seg_signal = normalized_signal[r_peaks[i] - before: r_peaks[i+1] + after]\n",
        "      x.append(seg_signal)\n",
        "      y.append(categories[i])\n",
        "  return x,y"
      ],
      "execution_count": 22,
      "outputs": []
    },
    {
      "cell_type": "code",
      "metadata": {
        "id": "xPxNq7OG8xMA"
      },
      "source": [
        "invalid_labels = ['|', '~', '!', '+', '[', ']', '\"', 'x']\n",
        "x,y = beat_segmentation(listFiles,360,invalid_labels)"
      ],
      "execution_count": 23,
      "outputs": []
    },
    {
      "cell_type": "markdown",
      "metadata": {
        "id": "RxaFQy9x55NB"
      },
      "source": [
        "Según lo hallado en la literatura, para poder tener una mayo homongenización de los datos, se optó por tener cada segmento con 1000 muestras, reduciendo el tamaño de la señal para casos de más de 1000 muestras o realizando un zero padding para casos de menos de 1000 muestras"
      ]
    },
    {
      "cell_type": "code",
      "metadata": {
        "id": "jU0Y9GfUYaj3"
      },
      "source": [
        "x2 = []\n",
        "for i in x:\n",
        "  if i.shape[0]<1000:\n",
        "    z_pad = i.flatten()\n",
        "    z_pad = np.pad(z_pad, (0, 1000-len(z_pad)), 'constant')\n",
        "    z_pad = z_pad.reshape((1000,1))\n",
        "    x2.append(z_pad)\n",
        "  else:\n",
        "    if i.shape[0]>=1000:\n",
        "      x2.append(i[:1000])\n",
        "    else:\n",
        "      print(i.shape)\n"
      ],
      "execution_count": 28,
      "outputs": []
    },
    {
      "cell_type": "code",
      "metadata": {
        "id": "FUeipxjXds6s",
        "colab": {
          "base_uri": "https://localhost:8080/"
        },
        "outputId": "0d8eaed3-9257-472d-b8b5-54381b643d84"
      },
      "source": [
        "k_fold = math.floor(len(x2)/10)\n",
        "k_fold"
      ],
      "execution_count": 29,
      "outputs": [
        {
          "output_type": "execute_result",
          "data": {
            "text/plain": [
              "10136"
            ]
          },
          "metadata": {
            "tags": []
          },
          "execution_count": 29
        }
      ]
    },
    {
      "cell_type": "code",
      "metadata": {
        "id": "i9nMnQ7ecvyd"
      },
      "source": [
        "X_folds = []\n",
        "y_folds = []\n",
        "for k in range(10):\n",
        "  temp = x2[k*k_fold:(k+1)*k_fold]\n",
        "  temp2 = y[k*k_fold:(k+1)*k_fold]\n",
        "  X_folds.append(temp)\n",
        "  y_folds.append(temp2)"
      ],
      "execution_count": 31,
      "outputs": []
    },
    {
      "cell_type": "markdown",
      "metadata": {
        "id": "6j7maQGgCOS7"
      },
      "source": [
        "Hasta este punto se tiene que X_fold contiene 10 paquetes de 10136 segmentos de tamaño 1000, y_fold tiene 10 paquetes de 10136 valores entre 0 y 3"
      ]
    },
    {
      "cell_type": "markdown",
      "metadata": {
        "id": "eoHgoS95FNtQ"
      },
      "source": [
        "Solo tomamos uno de estos paquetes debido a que el entrenamiento demora 60 -70 segundos por epoca durante 150 epocas lo que supera la cantidad de tiempo de conexión en Colab"
      ]
    },
    {
      "cell_type": "code",
      "metadata": {
        "id": "ZdIERarlJM_o"
      },
      "source": [
        "X = X_folds[1]\n",
        "Y = y_folds[1]\n",
        "\n",
        "X = np.array(X)\n",
        "Y = np.array(Y)\n"
      ],
      "execution_count": 33,
      "outputs": []
    },
    {
      "cell_type": "code",
      "metadata": {
        "id": "i5PATgikSuhD",
        "colab": {
          "base_uri": "https://localhost:8080/"
        },
        "outputId": "4f80d329-9d9e-46c2-8133-93aa0ed2a9de"
      },
      "source": [
        "enc = OneHotEncoder(sparse=False)\n",
        "enc.fit(Y.reshape(-1,1))\n",
        "enc.categories_\n",
        "Y = enc.transform(Y.reshape(-1,1))\n",
        "Y"
      ],
      "execution_count": 34,
      "outputs": [
        {
          "output_type": "execute_result",
          "data": {
            "text/plain": [
              "array([[1., 0., 0., 0.],\n",
              "       [1., 0., 0., 0.],\n",
              "       [1., 0., 0., 0.],\n",
              "       ...,\n",
              "       [1., 0., 0., 0.],\n",
              "       [1., 0., 0., 0.],\n",
              "       [1., 0., 0., 0.]])"
            ]
          },
          "metadata": {
            "tags": []
          },
          "execution_count": 34
        }
      ]
    },
    {
      "cell_type": "code",
      "metadata": {
        "id": "imA89I1AS-sS",
        "colab": {
          "base_uri": "https://localhost:8080/"
        },
        "outputId": "c5fa02e5-30a4-41d9-efb4-2d5079e55e5e"
      },
      "source": [
        "np.unique(Y,axis=0)"
      ],
      "execution_count": 35,
      "outputs": [
        {
          "output_type": "execute_result",
          "data": {
            "text/plain": [
              "array([[0., 0., 0., 1.],\n",
              "       [0., 0., 1., 0.],\n",
              "       [0., 1., 0., 0.],\n",
              "       [1., 0., 0., 0.]])"
            ]
          },
          "metadata": {
            "tags": []
          },
          "execution_count": 35
        }
      ]
    },
    {
      "cell_type": "markdown",
      "metadata": {
        "id": "CS3nshZYF70B"
      },
      "source": [
        "### Modelo de Entrenamiento"
      ]
    },
    {
      "cell_type": "markdown",
      "metadata": {
        "id": "jpIy1zf_Fp5x"
      },
      "source": [
        "Dividmos el dataset en training, testing y validación"
      ]
    },
    {
      "cell_type": "code",
      "metadata": {
        "id": "-Hpk-eWePF45",
        "colab": {
          "base_uri": "https://localhost:8080/"
        },
        "outputId": "143f6d16-8624-4cca-cbe4-dc642c59834d"
      },
      "source": [
        "from sklearn.model_selection import train_test_split\n",
        "\n",
        "x_train, x_test, y_train, y_test = train_test_split(X,Y, test_size=0.1, random_state=42)\n",
        "x_train.shape, y_train.shape"
      ],
      "execution_count": 38,
      "outputs": [
        {
          "output_type": "execute_result",
          "data": {
            "text/plain": [
              "((9122, 1000, 1), (9122, 4))"
            ]
          },
          "metadata": {
            "tags": []
          },
          "execution_count": 38
        }
      ]
    },
    {
      "cell_type": "code",
      "metadata": {
        "id": "qqR5rjVYPObn",
        "colab": {
          "base_uri": "https://localhost:8080/"
        },
        "outputId": "67f5bb20-42d8-4d14-b25f-d38ee8813caf"
      },
      "source": [
        "\n",
        "x_train, x_val, y_train, y_val = train_test_split(x_train, y_train, test_size=0.2, random_state=42)\n",
        "x_train.shape, y_train.shape, x_val.shape,y_val.shape"
      ],
      "execution_count": 39,
      "outputs": [
        {
          "output_type": "execute_result",
          "data": {
            "text/plain": [
              "((7297, 1000, 1), (7297, 4), (1825, 1000, 1), (1825, 4))"
            ]
          },
          "metadata": {
            "tags": []
          },
          "execution_count": 39
        }
      ]
    },
    {
      "cell_type": "code",
      "metadata": {
        "id": "qHlvpSasLHid",
        "colab": {
          "base_uri": "https://localhost:8080/"
        },
        "outputId": "18a08ebc-d847-4d60-fdba-8df31f3b5d01"
      },
      "source": [
        "from keras.activations import relu,sigmoid\n",
        "lr = 0.001\n",
        "\n",
        "\n",
        "model = Sequential(\n",
        "      [\n",
        "      Conv1D(3,20,activation=\"relu\",use_bias=False,input_shape=(1000,1)),\n",
        "      \n",
        "      MaxPooling1D(2,strides=2),\n",
        "      \n",
        "      Conv1D(6,10,activation=\"relu\",use_bias=False),\n",
        "\n",
        "      MaxPooling1D(2,strides=2),\n",
        "      \n",
        "      Conv1D(6,5,activation=\"relu\",use_bias=False),\n",
        "\n",
        "      MaxPooling1D(2,strides=2),\n",
        "\n",
        "      LSTM(20,recurrent_dropout=0.2),\n",
        "\n",
        "      Dense(20,activation=\"relu\"),\n",
        "\n",
        "      Dropout(0.2),\n",
        "\n",
        "      Dense(10,activation=\"relu\"),\n",
        "\n",
        "      Dropout(0.2),\n",
        "\n",
        "      Dense(4,activation=\"softmax\")\n",
        "\n",
        "      ])\n",
        "\n",
        "model.compile(optimizer=Adam(lr), loss=\"categorical_crossentropy\",metrics=['accuracy'])\n",
        "model.summary()"
      ],
      "execution_count": 40,
      "outputs": [
        {
          "output_type": "stream",
          "text": [
            "Model: \"sequential\"\n",
            "_________________________________________________________________\n",
            "Layer (type)                 Output Shape              Param #   \n",
            "=================================================================\n",
            "conv1d (Conv1D)              (None, 981, 3)            60        \n",
            "_________________________________________________________________\n",
            "max_pooling1d (MaxPooling1D) (None, 490, 3)            0         \n",
            "_________________________________________________________________\n",
            "conv1d_1 (Conv1D)            (None, 481, 6)            180       \n",
            "_________________________________________________________________\n",
            "max_pooling1d_1 (MaxPooling1 (None, 240, 6)            0         \n",
            "_________________________________________________________________\n",
            "conv1d_2 (Conv1D)            (None, 236, 6)            180       \n",
            "_________________________________________________________________\n",
            "max_pooling1d_2 (MaxPooling1 (None, 118, 6)            0         \n",
            "_________________________________________________________________\n",
            "lstm (LSTM)                  (None, 20)                2160      \n",
            "_________________________________________________________________\n",
            "dense (Dense)                (None, 20)                420       \n",
            "_________________________________________________________________\n",
            "dropout (Dropout)            (None, 20)                0         \n",
            "_________________________________________________________________\n",
            "dense_1 (Dense)              (None, 10)                210       \n",
            "_________________________________________________________________\n",
            "dropout_1 (Dropout)          (None, 10)                0         \n",
            "_________________________________________________________________\n",
            "dense_2 (Dense)              (None, 4)                 44        \n",
            "=================================================================\n",
            "Total params: 3,254\n",
            "Trainable params: 3,254\n",
            "Non-trainable params: 0\n",
            "_________________________________________________________________\n"
          ],
          "name": "stdout"
        }
      ]
    },
    {
      "cell_type": "code",
      "metadata": {
        "id": "QCatW1WiLJmm",
        "colab": {
          "base_uri": "https://localhost:8080/"
        },
        "outputId": "fcec355b-7857-4973-ae0e-ecf4a9cc7c60"
      },
      "source": [
        "log = model.fit(x_train, \n",
        "                y_train, \n",
        "                batch_size=10, \n",
        "                epochs=150, \n",
        "                validation_data=(x_val, \n",
        "                                 y_val))"
      ],
      "execution_count": 27,
      "outputs": [
        {
          "output_type": "stream",
          "text": [
            "Epoch 1/150\n",
            "730/730 [==============================] - 92s 90ms/step - loss: 0.6305 - accuracy: 0.9048 - val_loss: 0.3502 - val_accuracy: 0.9123\n",
            "Epoch 2/150\n",
            "730/730 [==============================] - 66s 91ms/step - loss: 0.3783 - accuracy: 0.9154 - val_loss: 0.3440 - val_accuracy: 0.9123\n",
            "Epoch 3/150\n",
            "730/730 [==============================] - 65s 89ms/step - loss: 0.3750 - accuracy: 0.9127 - val_loss: 0.3439 - val_accuracy: 0.9123\n",
            "Epoch 4/150\n",
            "730/730 [==============================] - 66s 90ms/step - loss: 0.3749 - accuracy: 0.9090 - val_loss: 0.3109 - val_accuracy: 0.9123\n",
            "Epoch 5/150\n",
            "730/730 [==============================] - 65s 90ms/step - loss: 0.3310 - accuracy: 0.9095 - val_loss: 0.2617 - val_accuracy: 0.9112\n",
            "Epoch 6/150\n",
            "730/730 [==============================] - 65s 88ms/step - loss: 0.2926 - accuracy: 0.9122 - val_loss: 0.2689 - val_accuracy: 0.9090\n",
            "Epoch 7/150\n",
            "730/730 [==============================] - 66s 91ms/step - loss: 0.2758 - accuracy: 0.9182 - val_loss: 0.2367 - val_accuracy: 0.9348\n",
            "Epoch 8/150\n",
            "730/730 [==============================] - 66s 90ms/step - loss: 0.2458 - accuracy: 0.9208 - val_loss: 0.1854 - val_accuracy: 0.9430\n",
            "Epoch 9/150\n",
            "730/730 [==============================] - 66s 90ms/step - loss: 0.2357 - accuracy: 0.9263 - val_loss: 0.1728 - val_accuracy: 0.9529\n",
            "Epoch 10/150\n",
            "730/730 [==============================] - 65s 90ms/step - loss: 0.2337 - accuracy: 0.9380 - val_loss: 0.1635 - val_accuracy: 0.9584\n",
            "Epoch 11/150\n",
            "730/730 [==============================] - 65s 89ms/step - loss: 0.2339 - accuracy: 0.9346 - val_loss: 0.1493 - val_accuracy: 0.9616\n",
            "Epoch 12/150\n",
            "730/730 [==============================] - 66s 91ms/step - loss: 0.2079 - accuracy: 0.9475 - val_loss: 0.1619 - val_accuracy: 0.9611\n",
            "Epoch 13/150\n",
            "730/730 [==============================] - 67s 91ms/step - loss: 0.2111 - accuracy: 0.9495 - val_loss: 0.1434 - val_accuracy: 0.9666\n",
            "Epoch 14/150\n",
            "730/730 [==============================] - 65s 89ms/step - loss: 0.1908 - accuracy: 0.9535 - val_loss: 0.1339 - val_accuracy: 0.9671\n",
            "Epoch 15/150\n",
            "730/730 [==============================] - 64s 88ms/step - loss: 0.1904 - accuracy: 0.9547 - val_loss: 0.1445 - val_accuracy: 0.9649\n",
            "Epoch 16/150\n",
            "730/730 [==============================] - 65s 89ms/step - loss: 0.1845 - accuracy: 0.9558 - val_loss: 0.1266 - val_accuracy: 0.9682\n",
            "Epoch 17/150\n",
            "730/730 [==============================] - 66s 90ms/step - loss: 0.1574 - accuracy: 0.9615 - val_loss: 0.1307 - val_accuracy: 0.9693\n",
            "Epoch 18/150\n",
            "730/730 [==============================] - 66s 90ms/step - loss: 0.1830 - accuracy: 0.9559 - val_loss: 0.1582 - val_accuracy: 0.9595\n",
            "Epoch 19/150\n",
            "730/730 [==============================] - 64s 88ms/step - loss: 0.1788 - accuracy: 0.9564 - val_loss: 0.1367 - val_accuracy: 0.9671\n",
            "Epoch 20/150\n",
            "730/730 [==============================] - 64s 88ms/step - loss: 0.1759 - accuracy: 0.9570 - val_loss: 0.1211 - val_accuracy: 0.9693\n",
            "Epoch 21/150\n",
            "730/730 [==============================] - 65s 89ms/step - loss: 0.1764 - accuracy: 0.9571 - val_loss: 0.1235 - val_accuracy: 0.9671\n",
            "Epoch 22/150\n",
            "730/730 [==============================] - 65s 89ms/step - loss: 0.1886 - accuracy: 0.9511 - val_loss: 0.1283 - val_accuracy: 0.9682\n",
            "Epoch 23/150\n",
            "730/730 [==============================] - 65s 89ms/step - loss: 0.1705 - accuracy: 0.9572 - val_loss: 0.1291 - val_accuracy: 0.9710\n",
            "Epoch 24/150\n",
            "730/730 [==============================] - 64s 88ms/step - loss: 0.1647 - accuracy: 0.9608 - val_loss: 0.1253 - val_accuracy: 0.9710\n",
            "Epoch 25/150\n",
            "730/730 [==============================] - 64s 88ms/step - loss: 0.1675 - accuracy: 0.9610 - val_loss: 0.1117 - val_accuracy: 0.9710\n",
            "Epoch 26/150\n",
            "730/730 [==============================] - 65s 89ms/step - loss: 0.1631 - accuracy: 0.9596 - val_loss: 0.1138 - val_accuracy: 0.9715\n",
            "Epoch 27/150\n",
            "730/730 [==============================] - 65s 89ms/step - loss: 0.1527 - accuracy: 0.9625 - val_loss: 0.1084 - val_accuracy: 0.9726\n",
            "Epoch 28/150\n",
            "730/730 [==============================] - 64s 88ms/step - loss: 0.1736 - accuracy: 0.9581 - val_loss: 0.1874 - val_accuracy: 0.9485\n",
            "Epoch 29/150\n",
            "730/730 [==============================] - 64s 88ms/step - loss: 0.1602 - accuracy: 0.9583 - val_loss: 0.1119 - val_accuracy: 0.9699\n",
            "Epoch 30/150\n",
            "730/730 [==============================] - 65s 89ms/step - loss: 0.1659 - accuracy: 0.9590 - val_loss: 0.1301 - val_accuracy: 0.9660\n",
            "Epoch 31/150\n",
            "730/730 [==============================] - 66s 90ms/step - loss: 0.1482 - accuracy: 0.9617 - val_loss: 0.1128 - val_accuracy: 0.9710\n",
            "Epoch 32/150\n",
            "730/730 [==============================] - 66s 90ms/step - loss: 0.1685 - accuracy: 0.9569 - val_loss: 0.1067 - val_accuracy: 0.9715\n",
            "Epoch 33/150\n",
            "730/730 [==============================] - 65s 89ms/step - loss: 0.1543 - accuracy: 0.9637 - val_loss: 0.1057 - val_accuracy: 0.9726\n",
            "Epoch 34/150\n",
            "730/730 [==============================] - 64s 88ms/step - loss: 0.1658 - accuracy: 0.9564 - val_loss: 0.1024 - val_accuracy: 0.9737\n",
            "Epoch 35/150\n",
            "730/730 [==============================] - 65s 89ms/step - loss: 0.1462 - accuracy: 0.9612 - val_loss: 0.1096 - val_accuracy: 0.9732\n",
            "Epoch 36/150\n",
            "730/730 [==============================] - 66s 90ms/step - loss: 0.1545 - accuracy: 0.9604 - val_loss: 0.1139 - val_accuracy: 0.9710\n",
            "Epoch 37/150\n",
            "730/730 [==============================] - 64s 88ms/step - loss: 0.1852 - accuracy: 0.9529 - val_loss: 0.1289 - val_accuracy: 0.9660\n",
            "Epoch 38/150\n",
            "730/730 [==============================] - 64s 88ms/step - loss: 0.1762 - accuracy: 0.9538 - val_loss: 0.1022 - val_accuracy: 0.9737\n",
            "Epoch 39/150\n",
            "730/730 [==============================] - 65s 89ms/step - loss: 0.1345 - accuracy: 0.9664 - val_loss: 0.0976 - val_accuracy: 0.9753\n",
            "Epoch 40/150\n",
            "730/730 [==============================] - 66s 90ms/step - loss: 0.1471 - accuracy: 0.9625 - val_loss: 0.1055 - val_accuracy: 0.9742\n",
            "Epoch 41/150\n",
            "730/730 [==============================] - 66s 90ms/step - loss: 0.1322 - accuracy: 0.9676 - val_loss: 0.1114 - val_accuracy: 0.9710\n",
            "Epoch 42/150\n",
            "730/730 [==============================] - 64s 88ms/step - loss: 0.1405 - accuracy: 0.9628 - val_loss: 0.0981 - val_accuracy: 0.9759\n",
            "Epoch 43/150\n",
            "730/730 [==============================] - 65s 89ms/step - loss: 0.1799 - accuracy: 0.9511 - val_loss: 0.1027 - val_accuracy: 0.9737\n",
            "Epoch 44/150\n",
            "730/730 [==============================] - 65s 89ms/step - loss: 0.1467 - accuracy: 0.9658 - val_loss: 0.1027 - val_accuracy: 0.9721\n",
            "Epoch 45/150\n",
            "730/730 [==============================] - 66s 90ms/step - loss: 0.1412 - accuracy: 0.9639 - val_loss: 0.0917 - val_accuracy: 0.9753\n",
            "Epoch 46/150\n",
            "730/730 [==============================] - 65s 89ms/step - loss: 0.1386 - accuracy: 0.9648 - val_loss: 0.0961 - val_accuracy: 0.9759\n",
            "Epoch 47/150\n",
            "730/730 [==============================] - 65s 89ms/step - loss: 0.1353 - accuracy: 0.9643 - val_loss: 0.0948 - val_accuracy: 0.9737\n",
            "Epoch 48/150\n",
            "730/730 [==============================] - 65s 89ms/step - loss: 0.1390 - accuracy: 0.9643 - val_loss: 0.0897 - val_accuracy: 0.9753\n",
            "Epoch 49/150\n",
            "730/730 [==============================] - 66s 90ms/step - loss: 0.1463 - accuracy: 0.9620 - val_loss: 0.1084 - val_accuracy: 0.9737\n",
            "Epoch 50/150\n",
            "730/730 [==============================] - 66s 90ms/step - loss: 0.1398 - accuracy: 0.9629 - val_loss: 0.1122 - val_accuracy: 0.9699\n",
            "Epoch 51/150\n",
            "730/730 [==============================] - 65s 89ms/step - loss: 0.1356 - accuracy: 0.9648 - val_loss: 0.0993 - val_accuracy: 0.9748\n",
            "Epoch 52/150\n",
            "730/730 [==============================] - 64s 88ms/step - loss: 0.1425 - accuracy: 0.9620 - val_loss: 0.0949 - val_accuracy: 0.9742\n",
            "Epoch 53/150\n",
            "730/730 [==============================] - 65s 89ms/step - loss: 0.1507 - accuracy: 0.9626 - val_loss: 0.0899 - val_accuracy: 0.9759\n",
            "Epoch 54/150\n",
            "730/730 [==============================] - 66s 91ms/step - loss: 0.1393 - accuracy: 0.9645 - val_loss: 0.1054 - val_accuracy: 0.9715\n",
            "Epoch 55/150\n",
            "730/730 [==============================] - 65s 90ms/step - loss: 0.1361 - accuracy: 0.9620 - val_loss: 0.1437 - val_accuracy: 0.9578\n",
            "Epoch 56/150\n",
            "730/730 [==============================] - 65s 89ms/step - loss: 0.1415 - accuracy: 0.9648 - val_loss: 0.0923 - val_accuracy: 0.9742\n",
            "Epoch 57/150\n",
            "730/730 [==============================] - 65s 88ms/step - loss: 0.1310 - accuracy: 0.9658 - val_loss: 0.0945 - val_accuracy: 0.9759\n",
            "Epoch 58/150\n",
            "730/730 [==============================] - 66s 90ms/step - loss: 0.1515 - accuracy: 0.9611 - val_loss: 0.0906 - val_accuracy: 0.9759\n",
            "Epoch 59/150\n",
            "730/730 [==============================] - 66s 90ms/step - loss: 0.1235 - accuracy: 0.9663 - val_loss: 0.0981 - val_accuracy: 0.9748\n",
            "Epoch 60/150\n",
            "730/730 [==============================] - 65s 89ms/step - loss: 0.1399 - accuracy: 0.9626 - val_loss: 0.0952 - val_accuracy: 0.9753\n",
            "Epoch 61/150\n",
            "730/730 [==============================] - 65s 88ms/step - loss: 0.1236 - accuracy: 0.9643 - val_loss: 0.1038 - val_accuracy: 0.9742\n",
            "Epoch 62/150\n",
            "730/730 [==============================] - 65s 89ms/step - loss: 0.1176 - accuracy: 0.9676 - val_loss: 0.0874 - val_accuracy: 0.9759\n",
            "Epoch 63/150\n",
            "730/730 [==============================] - 66s 90ms/step - loss: 0.1191 - accuracy: 0.9661 - val_loss: 0.0944 - val_accuracy: 0.9748\n",
            "Epoch 64/150\n",
            "730/730 [==============================] - 65s 90ms/step - loss: 0.1401 - accuracy: 0.9612 - val_loss: 0.0920 - val_accuracy: 0.9764\n",
            "Epoch 65/150\n",
            "730/730 [==============================] - 65s 89ms/step - loss: 0.1430 - accuracy: 0.9621 - val_loss: 0.0938 - val_accuracy: 0.9721\n",
            "Epoch 66/150\n",
            "730/730 [==============================] - 65s 89ms/step - loss: 0.1269 - accuracy: 0.9664 - val_loss: 0.0837 - val_accuracy: 0.9764\n",
            "Epoch 67/150\n",
            "730/730 [==============================] - 65s 90ms/step - loss: 0.1307 - accuracy: 0.9630 - val_loss: 0.0797 - val_accuracy: 0.9764\n",
            "Epoch 68/150\n",
            "730/730 [==============================] - 66s 90ms/step - loss: 0.1239 - accuracy: 0.9643 - val_loss: 0.0967 - val_accuracy: 0.9737\n",
            "Epoch 69/150\n",
            "730/730 [==============================] - 66s 90ms/step - loss: 0.1302 - accuracy: 0.9634 - val_loss: 0.0949 - val_accuracy: 0.9748\n",
            "Epoch 70/150\n",
            "730/730 [==============================] - 65s 89ms/step - loss: 0.1205 - accuracy: 0.9641 - val_loss: 0.0830 - val_accuracy: 0.9759\n",
            "Epoch 71/150\n",
            "730/730 [==============================] - 65s 89ms/step - loss: 0.1183 - accuracy: 0.9648 - val_loss: 0.0853 - val_accuracy: 0.9753\n",
            "Epoch 72/150\n",
            "730/730 [==============================] - 66s 90ms/step - loss: 0.1061 - accuracy: 0.9680 - val_loss: 0.0831 - val_accuracy: 0.9764\n",
            "Epoch 73/150\n",
            "730/730 [==============================] - 66s 91ms/step - loss: 0.1179 - accuracy: 0.9661 - val_loss: 0.0772 - val_accuracy: 0.9781\n",
            "Epoch 74/150\n",
            "730/730 [==============================] - 66s 90ms/step - loss: 0.1300 - accuracy: 0.9657 - val_loss: 0.0772 - val_accuracy: 0.9759\n",
            "Epoch 75/150\n",
            "730/730 [==============================] - 65s 89ms/step - loss: 0.1116 - accuracy: 0.9671 - val_loss: 0.0763 - val_accuracy: 0.9775\n",
            "Epoch 76/150\n",
            "730/730 [==============================] - 65s 89ms/step - loss: 0.1112 - accuracy: 0.9691 - val_loss: 0.0831 - val_accuracy: 0.9742\n",
            "Epoch 77/150\n",
            "730/730 [==============================] - 67s 91ms/step - loss: 0.1135 - accuracy: 0.9684 - val_loss: 0.0775 - val_accuracy: 0.9753\n",
            "Epoch 78/150\n",
            "730/730 [==============================] - 66s 91ms/step - loss: 0.1126 - accuracy: 0.9676 - val_loss: 0.0782 - val_accuracy: 0.9770\n",
            "Epoch 79/150\n",
            "730/730 [==============================] - 65s 89ms/step - loss: 0.1175 - accuracy: 0.9660 - val_loss: 0.0729 - val_accuracy: 0.9770\n",
            "Epoch 80/150\n",
            "730/730 [==============================] - 65s 89ms/step - loss: 0.1156 - accuracy: 0.9691 - val_loss: 0.0784 - val_accuracy: 0.9759\n",
            "Epoch 81/150\n",
            "730/730 [==============================] - 66s 91ms/step - loss: 0.1012 - accuracy: 0.9680 - val_loss: 0.0755 - val_accuracy: 0.9770\n",
            "Epoch 82/150\n",
            "730/730 [==============================] - 66s 91ms/step - loss: 0.1016 - accuracy: 0.9677 - val_loss: 0.0829 - val_accuracy: 0.9753\n",
            "Epoch 83/150\n",
            "730/730 [==============================] - 66s 90ms/step - loss: 0.1083 - accuracy: 0.9674 - val_loss: 0.0799 - val_accuracy: 0.9770\n",
            "Epoch 84/150\n",
            "730/730 [==============================] - 65s 90ms/step - loss: 0.1072 - accuracy: 0.9714 - val_loss: 0.0727 - val_accuracy: 0.9770\n",
            "Epoch 85/150\n",
            "730/730 [==============================] - 66s 91ms/step - loss: 0.1137 - accuracy: 0.9666 - val_loss: 0.0767 - val_accuracy: 0.9770\n",
            "Epoch 86/150\n",
            "730/730 [==============================] - 67s 91ms/step - loss: 0.1004 - accuracy: 0.9674 - val_loss: 0.1040 - val_accuracy: 0.9748\n",
            "Epoch 87/150\n",
            "730/730 [==============================] - 66s 90ms/step - loss: 0.1132 - accuracy: 0.9662 - val_loss: 0.0674 - val_accuracy: 0.9786\n",
            "Epoch 88/150\n",
            "730/730 [==============================] - 66s 90ms/step - loss: 0.0951 - accuracy: 0.9705 - val_loss: 0.0719 - val_accuracy: 0.9770\n",
            "Epoch 89/150\n",
            "730/730 [==============================] - 65s 90ms/step - loss: 0.1051 - accuracy: 0.9654 - val_loss: 0.0857 - val_accuracy: 0.9748\n",
            "Epoch 90/150\n",
            "730/730 [==============================] - 66s 90ms/step - loss: 0.1074 - accuracy: 0.9663 - val_loss: 0.0717 - val_accuracy: 0.9775\n",
            "Epoch 91/150\n",
            "730/730 [==============================] - 66s 91ms/step - loss: 0.1076 - accuracy: 0.9710 - val_loss: 0.0732 - val_accuracy: 0.9781\n",
            "Epoch 92/150\n",
            "730/730 [==============================] - 66s 90ms/step - loss: 0.0892 - accuracy: 0.9717 - val_loss: 0.0729 - val_accuracy: 0.9753\n",
            "Epoch 93/150\n",
            "730/730 [==============================] - 66s 90ms/step - loss: 0.0977 - accuracy: 0.9673 - val_loss: 0.0725 - val_accuracy: 0.9770\n",
            "Epoch 94/150\n",
            "730/730 [==============================] - 67s 92ms/step - loss: 0.1045 - accuracy: 0.9698 - val_loss: 0.0744 - val_accuracy: 0.9764\n",
            "Epoch 95/150\n",
            "730/730 [==============================] - 67s 91ms/step - loss: 0.0975 - accuracy: 0.9681 - val_loss: 0.0807 - val_accuracy: 0.9775\n",
            "Epoch 96/150\n",
            "730/730 [==============================] - 66s 90ms/step - loss: 0.1010 - accuracy: 0.9687 - val_loss: 0.0764 - val_accuracy: 0.9759\n",
            "Epoch 97/150\n",
            "730/730 [==============================] - 65s 90ms/step - loss: 0.0863 - accuracy: 0.9727 - val_loss: 0.0812 - val_accuracy: 0.9753\n",
            "Epoch 98/150\n",
            "730/730 [==============================] - 66s 91ms/step - loss: 0.1157 - accuracy: 0.9665 - val_loss: 0.0801 - val_accuracy: 0.9748\n",
            "Epoch 99/150\n",
            "730/730 [==============================] - 67s 91ms/step - loss: 0.0929 - accuracy: 0.9701 - val_loss: 0.0822 - val_accuracy: 0.9753\n",
            "Epoch 100/150\n",
            "730/730 [==============================] - 67s 92ms/step - loss: 0.0963 - accuracy: 0.9665 - val_loss: 0.0749 - val_accuracy: 0.9786\n",
            "Epoch 101/150\n",
            "730/730 [==============================] - 66s 91ms/step - loss: 0.0867 - accuracy: 0.9697 - val_loss: 0.0787 - val_accuracy: 0.9770\n",
            "Epoch 102/150\n",
            "730/730 [==============================] - 67s 91ms/step - loss: 0.1018 - accuracy: 0.9638 - val_loss: 0.0769 - val_accuracy: 0.9748\n",
            "Epoch 103/150\n",
            "730/730 [==============================] - 66s 90ms/step - loss: 0.0833 - accuracy: 0.9724 - val_loss: 0.0730 - val_accuracy: 0.9770\n",
            "Epoch 104/150\n",
            "730/730 [==============================] - 69s 94ms/step - loss: 0.0930 - accuracy: 0.9693 - val_loss: 0.0699 - val_accuracy: 0.9781\n",
            "Epoch 105/150\n",
            "730/730 [==============================] - 67s 92ms/step - loss: 0.0824 - accuracy: 0.9717 - val_loss: 0.0707 - val_accuracy: 0.9770\n",
            "Epoch 106/150\n",
            "730/730 [==============================] - 66s 91ms/step - loss: 0.0986 - accuracy: 0.9711 - val_loss: 0.0804 - val_accuracy: 0.9775\n",
            "Epoch 107/150\n",
            "730/730 [==============================] - 66s 90ms/step - loss: 0.0810 - accuracy: 0.9710 - val_loss: 0.0639 - val_accuracy: 0.9786\n",
            "Epoch 108/150\n",
            "730/730 [==============================] - 67s 91ms/step - loss: 0.0791 - accuracy: 0.9742 - val_loss: 0.0786 - val_accuracy: 0.9770\n",
            "Epoch 109/150\n",
            "730/730 [==============================] - 67s 92ms/step - loss: 0.0969 - accuracy: 0.9652 - val_loss: 0.0790 - val_accuracy: 0.9770\n",
            "Epoch 110/150\n",
            "730/730 [==============================] - 66s 91ms/step - loss: 0.0845 - accuracy: 0.9696 - val_loss: 0.0686 - val_accuracy: 0.9770\n",
            "Epoch 111/150\n",
            "730/730 [==============================] - 66s 91ms/step - loss: 0.0913 - accuracy: 0.9683 - val_loss: 0.0706 - val_accuracy: 0.9775\n",
            "Epoch 112/150\n",
            "730/730 [==============================] - 65s 89ms/step - loss: 0.1068 - accuracy: 0.9691 - val_loss: 0.0759 - val_accuracy: 0.9781\n",
            "Epoch 113/150\n",
            "730/730 [==============================] - 66s 90ms/step - loss: 0.0853 - accuracy: 0.9731 - val_loss: 0.0741 - val_accuracy: 0.9781\n",
            "Epoch 114/150\n",
            "730/730 [==============================] - 66s 90ms/step - loss: 0.0959 - accuracy: 0.9678 - val_loss: 0.0683 - val_accuracy: 0.9786\n",
            "Epoch 115/150\n",
            "730/730 [==============================] - 66s 90ms/step - loss: 0.0835 - accuracy: 0.9708 - val_loss: 0.0749 - val_accuracy: 0.9770\n",
            "Epoch 116/150\n",
            "730/730 [==============================] - 66s 90ms/step - loss: 0.0869 - accuracy: 0.9674 - val_loss: 0.0760 - val_accuracy: 0.9770\n",
            "Epoch 117/150\n",
            "730/730 [==============================] - 66s 90ms/step - loss: 0.0871 - accuracy: 0.9678 - val_loss: 0.0789 - val_accuracy: 0.9764\n",
            "Epoch 118/150\n",
            "730/730 [==============================] - 66s 91ms/step - loss: 0.0839 - accuracy: 0.9715 - val_loss: 0.0761 - val_accuracy: 0.9764\n",
            "Epoch 119/150\n",
            "730/730 [==============================] - 66s 90ms/step - loss: 0.0950 - accuracy: 0.9686 - val_loss: 0.0707 - val_accuracy: 0.9781\n",
            "Epoch 120/150\n",
            "730/730 [==============================] - 67s 91ms/step - loss: 0.1061 - accuracy: 0.9679 - val_loss: 0.0704 - val_accuracy: 0.9786\n",
            "Epoch 121/150\n",
            "730/730 [==============================] - 66s 90ms/step - loss: 0.0823 - accuracy: 0.9706 - val_loss: 0.0762 - val_accuracy: 0.9770\n",
            "Epoch 122/150\n",
            "730/730 [==============================] - 67s 92ms/step - loss: 0.0687 - accuracy: 0.9709 - val_loss: 0.0740 - val_accuracy: 0.9753\n",
            "Epoch 123/150\n",
            "730/730 [==============================] - 67s 92ms/step - loss: 0.0736 - accuracy: 0.9737 - val_loss: 0.0750 - val_accuracy: 0.9737\n",
            "Epoch 124/150\n",
            "730/730 [==============================] - 66s 91ms/step - loss: 0.0744 - accuracy: 0.9725 - val_loss: 0.1200 - val_accuracy: 0.9633\n",
            "Epoch 125/150\n",
            "730/730 [==============================] - 67s 92ms/step - loss: 0.1000 - accuracy: 0.9659 - val_loss: 0.0680 - val_accuracy: 0.9786\n",
            "Epoch 126/150\n",
            "730/730 [==============================] - 66s 91ms/step - loss: 0.0841 - accuracy: 0.9725 - val_loss: 0.0630 - val_accuracy: 0.9792\n",
            "Epoch 127/150\n",
            "730/730 [==============================] - 66s 91ms/step - loss: 0.0757 - accuracy: 0.9712 - val_loss: 0.0715 - val_accuracy: 0.9775\n",
            "Epoch 128/150\n",
            "730/730 [==============================] - 66s 91ms/step - loss: 0.0865 - accuracy: 0.9692 - val_loss: 0.0729 - val_accuracy: 0.9753\n",
            "Epoch 129/150\n",
            "730/730 [==============================] - 66s 91ms/step - loss: 0.0962 - accuracy: 0.9661 - val_loss: 0.0718 - val_accuracy: 0.9786\n",
            "Epoch 130/150\n",
            "730/730 [==============================] - 66s 90ms/step - loss: 0.0825 - accuracy: 0.9681 - val_loss: 0.0717 - val_accuracy: 0.9764\n",
            "Epoch 131/150\n",
            "730/730 [==============================] - 66s 90ms/step - loss: 0.0754 - accuracy: 0.9743 - val_loss: 0.0695 - val_accuracy: 0.9764\n",
            "Epoch 132/150\n",
            "730/730 [==============================] - 65s 90ms/step - loss: 0.0806 - accuracy: 0.9731 - val_loss: 0.0675 - val_accuracy: 0.9775\n",
            "Epoch 133/150\n",
            "730/730 [==============================] - 65s 89ms/step - loss: 0.0736 - accuracy: 0.9744 - val_loss: 0.0724 - val_accuracy: 0.9742\n",
            "Epoch 134/150\n",
            "730/730 [==============================] - 65s 89ms/step - loss: 0.0679 - accuracy: 0.9773 - val_loss: 0.0679 - val_accuracy: 0.9764\n",
            "Epoch 135/150\n",
            "730/730 [==============================] - 66s 90ms/step - loss: 0.0768 - accuracy: 0.9703 - val_loss: 0.0798 - val_accuracy: 0.9748\n",
            "Epoch 136/150\n",
            "730/730 [==============================] - 66s 91ms/step - loss: 0.0809 - accuracy: 0.9699 - val_loss: 0.0740 - val_accuracy: 0.9775\n",
            "Epoch 137/150\n",
            "730/730 [==============================] - 66s 91ms/step - loss: 0.0817 - accuracy: 0.9690 - val_loss: 0.0725 - val_accuracy: 0.9775\n",
            "Epoch 138/150\n",
            "730/730 [==============================] - 66s 90ms/step - loss: 0.0708 - accuracy: 0.9746 - val_loss: 0.0620 - val_accuracy: 0.9786\n",
            "Epoch 139/150\n",
            "730/730 [==============================] - 66s 90ms/step - loss: 0.0702 - accuracy: 0.9746 - val_loss: 0.0649 - val_accuracy: 0.9764\n",
            "Epoch 140/150\n",
            "730/730 [==============================] - 66s 91ms/step - loss: 0.0703 - accuracy: 0.9742 - val_loss: 0.0681 - val_accuracy: 0.9781\n",
            "Epoch 141/150\n",
            "730/730 [==============================] - 67s 91ms/step - loss: 0.0685 - accuracy: 0.9786 - val_loss: 0.0971 - val_accuracy: 0.9759\n",
            "Epoch 142/150\n",
            "730/730 [==============================] - 67s 92ms/step - loss: 0.0892 - accuracy: 0.9684 - val_loss: 0.0636 - val_accuracy: 0.9775\n",
            "Epoch 143/150\n",
            "730/730 [==============================] - 66s 90ms/step - loss: 0.0788 - accuracy: 0.9733 - val_loss: 0.0735 - val_accuracy: 0.9781\n",
            "Epoch 144/150\n",
            "730/730 [==============================] - 66s 91ms/step - loss: 0.0724 - accuracy: 0.9750 - val_loss: 0.0732 - val_accuracy: 0.9737\n",
            "Epoch 145/150\n",
            "730/730 [==============================] - 66s 90ms/step - loss: 0.0668 - accuracy: 0.9740 - val_loss: 0.0726 - val_accuracy: 0.9786\n",
            "Epoch 146/150\n",
            "730/730 [==============================] - 66s 91ms/step - loss: 0.0783 - accuracy: 0.9738 - val_loss: 0.0639 - val_accuracy: 0.9770\n",
            "Epoch 147/150\n",
            "730/730 [==============================] - 68s 93ms/step - loss: 0.0682 - accuracy: 0.9734 - val_loss: 0.0970 - val_accuracy: 0.9742\n",
            "Epoch 148/150\n",
            "730/730 [==============================] - 66s 90ms/step - loss: 0.0803 - accuracy: 0.9751 - val_loss: 0.0640 - val_accuracy: 0.9775\n",
            "Epoch 149/150\n",
            "730/730 [==============================] - 65s 90ms/step - loss: 0.0668 - accuracy: 0.9738 - val_loss: 0.0657 - val_accuracy: 0.9775\n",
            "Epoch 150/150\n",
            "730/730 [==============================] - 66s 90ms/step - loss: 0.0724 - accuracy: 0.9713 - val_loss: 0.0771 - val_accuracy: 0.9737\n"
          ],
          "name": "stdout"
        }
      ]
    },
    {
      "cell_type": "code",
      "metadata": {
        "id": "3pHTk9d4GmoU"
      },
      "source": [
        "np.save('model_log.npy',log.history)"
      ],
      "execution_count": null,
      "outputs": []
    },
    {
      "cell_type": "code",
      "metadata": {
        "id": "V_z-AfikPrZa",
        "colab": {
          "base_uri": "https://localhost:8080/",
          "height": 573
        },
        "outputId": "7703c19b-97fb-47db-8d5e-d58e6058968a"
      },
      "source": [
        "plt.figure()\n",
        "plt.title(\"Loss x epoch\")\n",
        "plt.plot(log.history['loss'], label='train')\n",
        "plt.plot(log.history['val_loss'],'-.',label='test')\n",
        "plt.xlabel('epoch');\n",
        "plt.ylabel('loss')\n",
        "plt.legend()\n",
        "plt.savefig('losses.png', dpi=300, bbox_inches='tight')\n",
        "\n",
        "\n",
        "plt.show()\n",
        "\n",
        "# Visualize History for Accuracy.\n",
        "plt.title('Keras model accuracy')\n",
        "plt.ylabel('accuracy')\n",
        "plt.xlabel('epoch')\n",
        "plt.plot(log.history['accuracy'])\n",
        "plt.plot(log.history['val_accuracy'],'-.')\n",
        "plt.legend(['training', 'validation'], loc='lower right')\n",
        "\n",
        "plt.savefig('accuracy.png', dpi=300, bbox_inches='tight')\n",
        "\n",
        "plt.show()"
      ],
      "execution_count": 75,
      "outputs": [
        {
          "output_type": "display_data",
          "data": {
            "image/png": "[encoded data removed]",
            "text/plain": [
              "<Figure size 432x288 with 1 Axes>"
            ]
          },
          "metadata": {
            "tags": [],
            "needs_background": "light"
          }
        },
        {
          "output_type": "display_data",
          "data": {
            "image/png": "[encoded data removed]",
            "text/plain": [
              "<Figure size 432x288 with 1 Axes>"
            ]
          },
          "metadata": {
            "tags": [],
            "needs_background": "light"
          }
        }
      ]
    },
    {
      "cell_type": "code",
      "metadata": {
        "colab": {
          "base_uri": "https://localhost:8080/"
        },
        "id": "fNZuS8k2N61u",
        "outputId": "79b67787-2432-48a2-c0f9-7867ce2054a6"
      },
      "source": [
        "x_test.shape,y_test.shape"
      ],
      "execution_count": 263,
      "outputs": [
        {
          "output_type": "execute_result",
          "data": {
            "text/plain": [
              "((1014, 1000, 1), (1014, 4))"
            ]
          },
          "metadata": {
            "tags": []
          },
          "execution_count": 263
        }
      ]
    },
    {
      "cell_type": "code",
      "metadata": {
        "id": "0He9y7NyhInL"
      },
      "source": [
        "model.save('model_v1.h5')"
      ],
      "execution_count": 264,
      "outputs": []
    },
    {
      "cell_type": "code",
      "metadata": {
        "id": "iVQB-XuW0y0N"
      },
      "source": [
        "from keras import models\n",
        "new_model = models.load_model('model_v1.h5')"
      ],
      "execution_count": 32,
      "outputs": []
    },
    {
      "cell_type": "code",
      "metadata": {
        "id": "bs3yt_nvFgEE"
      },
      "source": [
        "#y_pred = model.predict(x_test)\n",
        "y_pred_raw = new_model.predict(x_test)"
      ],
      "execution_count": 44,
      "outputs": []
    },
    {
      "cell_type": "code",
      "metadata": {
        "colab": {
          "base_uri": "https://localhost:8080/"
        },
        "id": "Ee3MnyJtN_f3",
        "outputId": "2cad9d96-d633-47a3-d136-cf02c5c42890"
      },
      "source": [
        "comparison = np.testing.assert_allclose(y_pred, y_pred_loaded, rtol=1e-6, atol=1e-6)\n",
        "if comparison!=None:\n",
        "  print(\"The models are not equal\")\n",
        "else:\n",
        "  print(\"The models are equal\")"
      ],
      "execution_count": 321,
      "outputs": [
        {
          "output_type": "stream",
          "text": [
            "The models are equal\n"
          ],
          "name": "stdout"
        }
      ]
    },
    {
      "cell_type": "code",
      "metadata": {
        "colab": {
          "base_uri": "https://localhost:8080/"
        },
        "id": "CWWPpkm8OMGe",
        "outputId": "4a29e77a-492f-411f-b63e-45824905413f"
      },
      "source": [
        "y_pred_raw"
      ],
      "execution_count": 45,
      "outputs": [
        {
          "output_type": "execute_result",
          "data": {
            "text/plain": [
              "array([[9.9873155e-01, 1.2683322e-03, 7.6006614e-08, 1.0585085e-19],\n",
              "       [9.9827027e-01, 1.7294642e-03, 2.7244016e-07, 2.1985602e-18],\n",
              "       [9.9830294e-01, 1.6968526e-03, 2.7771958e-07, 2.1201224e-18],\n",
              "       ...,\n",
              "       [9.9999845e-01, 1.5291855e-06, 3.7265364e-12, 1.8281229e-36],\n",
              "       [9.9999857e-01, 1.3934193e-06, 4.1318216e-12, 1.5807332e-36],\n",
              "       [9.9997127e-01, 2.8728969e-05, 6.5309765e-11, 3.6165361e-30]],\n",
              "      dtype=float32)"
            ]
          },
          "metadata": {
            "tags": []
          },
          "execution_count": 45
        }
      ]
    },
    {
      "cell_type": "code",
      "metadata": {
        "colab": {
          "base_uri": "https://localhost:8080/"
        },
        "id": "ic7wt8CEQjDu",
        "outputId": "3192c1c6-d6b4-4466-dd3e-d06c66292b1b"
      },
      "source": [
        "y_pred = np.argmax(y_pred_raw,axis=1)\n",
        "np.unique(y_pred,return_counts=True)"
      ],
      "execution_count": 46,
      "outputs": [
        {
          "output_type": "execute_result",
          "data": {
            "text/plain": [
              "(array([0, 1, 2]), array([43534,   786,  5341]))"
            ]
          },
          "metadata": {
            "tags": []
          },
          "execution_count": 46
        }
      ]
    },
    {
      "cell_type": "code",
      "metadata": {
        "colab": {
          "base_uri": "https://localhost:8080/"
        },
        "id": "ekWxqIY9lOB-",
        "outputId": "ce9054d6-430a-4e55-9656-c44d57961170"
      },
      "source": [
        "y_true = np.argmax(y_test,axis=1)\n",
        "np.unique(y_true,return_counts=True)"
      ],
      "execution_count": 47,
      "outputs": [
        {
          "output_type": "execute_result",
          "data": {
            "text/plain": [
              "(array([0, 1, 2, 3]), array([44218,  1836,  3219,   388]))"
            ]
          },
          "metadata": {
            "tags": []
          },
          "execution_count": 47
        }
      ]
    },
    {
      "cell_type": "code",
      "metadata": {
        "colab": {
          "base_uri": "https://localhost:8080/"
        },
        "id": "ecWduR_Fl542",
        "outputId": "8b5e563a-320d-435f-b62a-6983d852df3e"
      },
      "source": [
        "print(classification_report(y_true,y_pred))"
      ],
      "execution_count": 48,
      "outputs": [
        {
          "output_type": "stream",
          "text": [
            "              precision    recall  f1-score   support\n",
            "\n",
            "           0       0.93      0.92      0.93     44218\n",
            "           1       0.11      0.05      0.06      1836\n",
            "           2       0.40      0.67      0.51      3219\n",
            "           3       0.00      0.00      0.00       388\n",
            "\n",
            "    accuracy                           0.86     49661\n",
            "   macro avg       0.36      0.41      0.37     49661\n",
            "weighted avg       0.86      0.86      0.86     49661\n",
            "\n"
          ],
          "name": "stdout"
        },
        {
          "output_type": "stream",
          "text": [
            "/usr/local/lib/python3.7/dist-packages/sklearn/metrics/_classification.py:1272: UndefinedMetricWarning: Precision and F-score are ill-defined and being set to 0.0 in labels with no predicted samples. Use `zero_division` parameter to control this behavior.\n",
            "  _warn_prf(average, modifier, msg_start, len(result))\n"
          ],
          "name": "stderr"
        }
      ]
    },
    {
      "cell_type": "code",
      "metadata": {
        "id": "MMyem1Z1lQEG"
      },
      "source": [
        "cm = confusion_matrix(y_true,y_pred)"
      ],
      "execution_count": 49,
      "outputs": []
    },
    {
      "cell_type": "code",
      "metadata": {
        "id": "m-q3NeEBll13"
      },
      "source": [
        "def plot_confusion_matrix(cm,target_names,title='Confusion matrix',cmap=None,normalize=True):\n",
        "    import matplotlib.pyplot as plt\n",
        "    import numpy as np\n",
        "    import itertools\n",
        "\n",
        "    accuracy = np.trace(cm) / float(np.sum(cm))\n",
        "    misclass = 1 - accuracy\n",
        "\n",
        "    if cmap is None:\n",
        "        cmap = plt.get_cmap('Blues')\n",
        "\n",
        "    plt.figure(figsize=(8, 6))\n",
        "    plt.imshow(cm, interpolation='nearest', cmap=cmap)\n",
        "    plt.title(title)\n",
        "    plt.colorbar()\n",
        "\n",
        "    if target_names is not None:\n",
        "        tick_marks = np.arange(len(target_names))\n",
        "        plt.xticks(tick_marks, target_names, rotation=45)\n",
        "        plt.yticks(tick_marks, target_names)\n",
        "\n",
        "    if normalize:\n",
        "        cm = cm.astype('float') / cm.sum(axis=1)[:, np.newaxis]\n",
        "\n",
        "\n",
        "    thresh = cm.max() / 1.5 if normalize else cm.max() / 2\n",
        "    for i, j in itertools.product(range(cm.shape[0]), range(cm.shape[1])):\n",
        "        if normalize:\n",
        "            plt.text(j, i, \"{:0.4f}\".format(cm[i, j]),\n",
        "                     horizontalalignment=\"center\",\n",
        "                     color=\"white\" if cm[i, j] > thresh else \"black\")\n",
        "        else:\n",
        "            plt.text(j, i, \"{:,}\".format(cm[i, j]),\n",
        "                     horizontalalignment=\"center\",\n",
        "                     color=\"white\" if cm[i, j] > thresh else \"black\")\n",
        "\n",
        "\n",
        "    plt.tight_layout()\n",
        "    plt.ylabel('True label')\n",
        "    plt.xlabel('Predicted label\\naccuracy={:0.4f}; misclass={:0.4f}'.format(accuracy, misclass))\n",
        "    plt.savefig('confussion_matrix_modelo_1.png', dpi=300, bbox_inches='tight')\n",
        "    plt.show()"
      ],
      "execution_count": 55,
      "outputs": []
    },
    {
      "cell_type": "code",
      "metadata": {
        "colab": {
          "base_uri": "https://localhost:8080/",
          "height": 484
        },
        "id": "GnhYboWKn-5P",
        "outputId": "689becf0-47a9-4007-fef6-4535a05a42ba"
      },
      "source": [
        "target_names = [\"N\",\"SVEB\",\"VEB\",\"F\"]\n",
        "plt.figure()\n",
        "plot_confusion_matrix(cm,target_names,title='Confusion matrix',cmap=None,normalize=True)"
      ],
      "execution_count": 56,
      "outputs": [
        {
          "output_type": "display_data",
          "data": {
            "text/plain": [
              "<Figure size 432x288 with 0 Axes>"
            ]
          },
          "metadata": {
            "tags": []
          }
        },
        {
          "output_type": "display_data",
          "data": {
            "image/png": "[encoded data removed]",
            "text/plain": [
              "<Figure size 576x432 with 2 Axes>"
            ]
          },
          "metadata": {
            "tags": [],
            "needs_background": "light"
          }
        }
      ]
    },
    {
      "cell_type": "code",
      "metadata": {
        "id": "C1VbStt5I0uH"
      },
      "source": [
        ""
      ],
      "execution_count": 41,
      "outputs": []
    }
  ]
}