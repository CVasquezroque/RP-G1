{
  "nbformat": 4,
  "nbformat_minor": 0,
  "metadata": {
    "colab": {
      "name": "CNN-LSTM_V2.ipynb",
      "provenance": [],
      "authorship_tag": "ABX9TyP1euKeBgf2+vCRTBSIvCep",
      "include_colab_link": true
    },
    "kernelspec": {
      "name": "python3",
      "display_name": "Python 3"
    },
    "language_info": {
      "name": "python"
    }
  },
  "cells": [
    {
      "cell_type": "markdown",
      "metadata": {
        "id": "view-in-github",
        "colab_type": "text"
      },
      "source": [
        "<a href=\"https://colab.research.google.com/github/CVasquezroque/RP-G1/blob/main/CNN_LSTM_V2.ipynb\" target=\"_parent\"><img src=\"https://colab.research.google.com/assets/colab-badge.svg\" alt=\"Open In Colab\"/></a>"
      ]
    },
    {
      "cell_type": "markdown",
      "metadata": {
        "id": "XOBx3You6O4S"
      },
      "source": [
        "En esta implementación del modelo se buscó utilizar la misma distribución de datos del modelo implementado por CNN-CWT y bajo los mismos hiperparámetros, sin embargo dentro de los resultados obtenidos no se obtiene una mejora , esto podria deberse a la distribución que se tiene de cada una de las clases, donde se tiene muchos más valores de la clase 0 ['N'] en comparación a las otras clases"
      ]
    },
    {
      "cell_type": "code",
      "metadata": {
        "id": "6fH2sDpd1X3_"
      },
      "source": [
        "!wget -r -N -q -c -np https://physionet.org/files/mitdb/1.0.0/"
      ],
      "execution_count": 1,
      "outputs": []
    },
    {
      "cell_type": "code",
      "metadata": {
        "colab": {
          "base_uri": "https://localhost:8080/"
        },
        "id": "9loZKiUl1en4",
        "outputId": "e288b099-0134-4081-faba-48a8c5103878"
      },
      "source": [
        "!pip --q install wfdb"
      ],
      "execution_count": 2,
      "outputs": [
        {
          "output_type": "stream",
          "text": [
            "\u001b[?25l\r\u001b[K     |██▍                             | 10kB 16.3MB/s eta 0:00:01\r\u001b[K     |████▊                           | 20kB 21.5MB/s eta 0:00:01\r\u001b[K     |███████▏                        | 30kB 12.9MB/s eta 0:00:01\r\u001b[K     |█████████▌                      | 40kB 10.0MB/s eta 0:00:01\r\u001b[K     |████████████                    | 51kB 5.5MB/s eta 0:00:01\r\u001b[K     |██████████████▎                 | 61kB 6.1MB/s eta 0:00:01\r\u001b[K     |████████████████▊               | 71kB 6.3MB/s eta 0:00:01\r\u001b[K     |███████████████████             | 81kB 6.6MB/s eta 0:00:01\r\u001b[K     |█████████████████████▍          | 92kB 6.6MB/s eta 0:00:01\r\u001b[K     |███████████████████████▉        | 102kB 5.5MB/s eta 0:00:01\r\u001b[K     |██████████████████████████▏     | 112kB 5.5MB/s eta 0:00:01\r\u001b[K     |████████████████████████████▋   | 122kB 5.5MB/s eta 0:00:01\r\u001b[K     |███████████████████████████████ | 133kB 5.5MB/s eta 0:00:01\r\u001b[K     |████████████████████████████████| 143kB 5.5MB/s \n",
            "\u001b[?25h"
          ],
          "name": "stdout"
        }
      ]
    },
    {
      "cell_type": "code",
      "metadata": {
        "id": "P_uny_uh1f30"
      },
      "source": [
        "import pywt\n",
        "import math\n",
        "import wfdb\n",
        "import matplotlib.pyplot as plt\n",
        "from matplotlib.ticker import AutoMinorLocator\n",
        "import pandas as pd\n",
        "import numpy as np\n",
        "from pathlib import Path\n",
        "\n",
        "import os\n",
        "import glob\n",
        "import scipy.signal as sg\n",
        "from keras.models import Sequential,load_model\n",
        "from keras.layers import Dense, Dropout, Conv1D, MaxPooling1D,InputLayer,LSTM\n",
        "from keras.optimizers import  Adam\n",
        "from keras.losses import mean_squared_error\n",
        "from tensorflow.keras.utils import to_categorical\n",
        "from tensorflow.keras.initializers import GlorotUniform\n",
        "from sklearn.metrics import classification_report, confusion_matrix, f1_score, make_scorer\n",
        "#from sklearn import preprocessing\n",
        "from sklearn.preprocessing import OneHotEncoder,LabelEncoder\n",
        "from sklearn.model_selection import train_test_split\n",
        "from keras.activations import relu,sigmoid"
      ],
      "execution_count": 3,
      "outputs": []
    },
    {
      "cell_type": "code",
      "metadata": {
        "id": "cuy2V6WY2V8W"
      },
      "source": [
        "PATH = Path(\"physionet.org/files/mitdb/1.0.0/\")"
      ],
      "execution_count": 4,
      "outputs": []
    },
    {
      "cell_type": "code",
      "metadata": {
        "id": "OOr1fnyi2E1r"
      },
      "source": [
        "train_records = [\n",
        "    '101', '106', '108', '109', '112', '114', '115', '116', '118', '119',\n",
        "    '122', '124', '201', '203', '205', '207', '208', '209', '215', '220',\n",
        "    '223', '230'\n",
        "]\n",
        "\n",
        "test_records = [\n",
        "    '100', '103', '105', '111', '113', '117', '121', '123', '200', '202',\n",
        "    '210', '212', '213', '214', '219', '221', '222', '228', '231', '232',\n",
        "    '233', '234'\n",
        "]"
      ],
      "execution_count": 5,
      "outputs": []
    },
    {
      "cell_type": "code",
      "metadata": {
        "id": "NoWW5CG_133s"
      },
      "source": [
        "def align_peaks(filtered_signal,newR,r_peaks,sampling_rate,tol):\n",
        "  for r_peak in r_peaks:\n",
        "      r_left = np.maximum(r_peak - int(tol * sampling_rate), 0)\n",
        "      r_right = np.minimum(r_peak + int(tol * sampling_rate), len(filtered_signal))\n",
        "      newR.append(r_left + np.argmax(filtered_signal[r_left:r_right]))\n",
        "  r_peaks = np.array(newR, dtype=\"int\")\n",
        "  return r_peaks"
      ],
      "execution_count": 6,
      "outputs": []
    },
    {
      "cell_type": "code",
      "metadata": {
        "id": "oXmcXtCYH32l"
      },
      "source": [
        "def beat_segmentation(records,PATH,fs,invalid_labels,before=99,after=160):\n",
        "  x,y = [],[]\n",
        "  for record in records:\n",
        "    signal,meta = wfdb.rdsamp((PATH / record).as_posix(),channels=[0])\n",
        "    ann = wfdb.rdann((PATH / record).as_posix(),'atr')\n",
        "    r_peaks, labels = ann.sample, np.array(ann.symbol)\n",
        "    indices = [i for i, label in enumerate(labels) if label not in invalid_labels]\n",
        "    r_peaks, labels = r_peaks[indices], labels[indices]\n",
        "    tol = 0.05\n",
        "    newR = []\n",
        "    r_peaks = align_peaks(signal,newR,r_peaks,fs,tol)\n",
        "    temp_sig = signal.flatten()\n",
        "    baseline = sg.medfilt(sg.medfilt(temp_sig, int(0.2 * fs) - 1), int(0.6 * fs) - 1)\n",
        "    filtered_signal = temp_sig - baseline\n",
        "    filtered_signal = filtered_signal.reshape(len(filtered_signal),1)\n",
        "    normalized_signal = filtered_signal / np.mean(filtered_signal[r_peaks])\n",
        "    AAMI = {\n",
        "    \"N\": 0, \"L\": 0, \"R\": 0, \"e\": 0, \"j\": 0,  # N\n",
        "    \"A\": 1, \"a\": 1, \"S\": 1, \"J\": 1,  # SVEB\n",
        "    \"V\": 2, \"E\": 2,  # VEB\n",
        "    \"F\": 3,  # F\n",
        "    \"/\": 4, \"f\": 4, \"Q\": 4  # Q\n",
        "    }\n",
        "    categories = [AAMI[label] for label in labels]\n",
        "    for i in range(len(r_peaks)):\n",
        "      if i == 0 or i == len(r_peaks) - 1:\n",
        "        continue\n",
        "      if categories[i] == 4:  # remove AAMI Q class\n",
        "        continue     \n",
        "      \n",
        "      seg_signal = normalized_signal[r_peaks[i] - before: r_peaks[i+1] + after]\n",
        "      x.append(seg_signal)\n",
        "      y.append(categories[i])\n",
        "  return x,y"
      ],
      "execution_count": 7,
      "outputs": []
    },
    {
      "cell_type": "code",
      "metadata": {
        "id": "GXd2jzDfIyTu"
      },
      "source": [
        "fs = 360\n",
        "invalid_labels = ['|', '~', '!', '+', '[', ']', '\"', 'x']"
      ],
      "execution_count": 8,
      "outputs": []
    },
    {
      "cell_type": "code",
      "metadata": {
        "id": "r6-PPqF9ITss"
      },
      "source": [
        "X_train,Y_train = beat_segmentation(train_records,PATH,fs,invalid_labels)"
      ],
      "execution_count": 9,
      "outputs": []
    },
    {
      "cell_type": "code",
      "metadata": {
        "id": "pYyAcP0rIq7g"
      },
      "source": [
        "X_test,Y_test = beat_segmentation(test_records,PATH,fs,invalid_labels)"
      ],
      "execution_count": 10,
      "outputs": []
    },
    {
      "cell_type": "code",
      "metadata": {
        "colab": {
          "base_uri": "https://localhost:8080/"
        },
        "id": "vlSZHfHP-2m5",
        "outputId": "63fee36c-7dac-4518-94d4-18bac07dd10f"
      },
      "source": [
        "len(X_train),len(Y_train),len(X_test),len(Y_test)"
      ],
      "execution_count": 11,
      "outputs": [
        {
          "output_type": "execute_result",
          "data": {
            "text/plain": [
              "(50969, 50969, 49661, 49661)"
            ]
          },
          "metadata": {
            "tags": []
          },
          "execution_count": 11
        }
      ]
    },
    {
      "cell_type": "code",
      "metadata": {
        "id": "-uz2j0nX-5nR"
      },
      "source": [
        "\n",
        "def uniform_signal(x):\n",
        "  x2 = []\n",
        "  for i in x:\n",
        "    if i.shape[0]<1000:\n",
        "      z_pad = i.flatten()\n",
        "      z_pad = np.pad(z_pad, (0, 1000-len(z_pad)), 'constant')\n",
        "      z_pad = z_pad.reshape((1000,1))\n",
        "      x2.append(z_pad)\n",
        "    else:\n",
        "      if i.shape[0]>=1000:\n",
        "        x2.append(i[:1000])\n",
        "  return x2\n",
        "\n",
        "def myencoder(data_y):\n",
        "  enc = OneHotEncoder(sparse=False)\n",
        "  enc.fit(data_y.reshape(-1,1))\n",
        "  enc.categories_\n",
        "  Y = enc.transform(data_y.reshape(-1,1))\n",
        "  return Y, enc"
      ],
      "execution_count": 12,
      "outputs": []
    },
    {
      "cell_type": "code",
      "metadata": {
        "colab": {
          "base_uri": "https://localhost:8080/"
        },
        "id": "S7k5-KiI_zXZ",
        "outputId": "8847317f-f1e0-4aa4-c575-10aeade4b6e8"
      },
      "source": [
        "x_train = uniform_signal(X_train)\n",
        "x_train = np.array(x_train)\n",
        "print(x_train.shape)\n",
        "\n",
        "x_test = uniform_signal(X_test)\n",
        "x_test = np.array(x_test)\n",
        "print(x_test.shape)\n",
        "\n",
        "y_train,enc = myencoder(np.array(Y_train))\n",
        "print(y_train.shape)\n",
        "\n",
        "y_test,enc = myencoder(np.array(Y_test))\n",
        "print(y_test.shape)"
      ],
      "execution_count": 13,
      "outputs": [
        {
          "output_type": "stream",
          "text": [
            "(50969, 1000, 1)\n",
            "(49661, 1000, 1)\n",
            "(50969, 4)\n",
            "(49661, 4)\n"
          ],
          "name": "stdout"
        }
      ]
    },
    {
      "cell_type": "code",
      "metadata": {
        "colab": {
          "base_uri": "https://localhost:8080/"
        },
        "id": "beYY3Uf0_56x",
        "outputId": "7ccb8f00-5bca-4fcf-9a7d-1a65587702cc"
      },
      "source": [
        "x_train, x_val, y_train, y_val = train_test_split(x_train,y_train, test_size=0.25, random_state=42)\n",
        "x_train.shape, y_train.shape,x_val.shape, y_val.shape"
      ],
      "execution_count": 14,
      "outputs": [
        {
          "output_type": "execute_result",
          "data": {
            "text/plain": [
              "((38226, 1000, 1), (38226, 4), (12743, 1000, 1), (12743, 4))"
            ]
          },
          "metadata": {
            "tags": []
          },
          "execution_count": 14
        }
      ]
    },
    {
      "cell_type": "code",
      "metadata": {
        "colab": {
          "base_uri": "https://localhost:8080/"
        },
        "id": "P2D9kIbL_8Hp",
        "outputId": "45348dcf-25a4-4779-edcc-acb1107bd4ea"
      },
      "source": [
        "print(np.unique(y_train,axis=0,return_counts=True))\n",
        "print(np.unique(y_val,axis=0,return_counts=True))\n",
        "print(np.unique(y_test,axis=0,return_counts=True))"
      ],
      "execution_count": 15,
      "outputs": [
        {
          "output_type": "stream",
          "text": [
            "(array([[0., 0., 0., 1.],\n",
            "       [0., 0., 1., 0.],\n",
            "       [0., 1., 0., 0.],\n",
            "       [1., 0., 0., 0.]]), array([  307,  2841,   721, 34357]))\n",
            "(array([[0., 0., 0., 1.],\n",
            "       [0., 0., 1., 0.],\n",
            "       [0., 1., 0., 0.],\n",
            "       [1., 0., 0., 0.]]), array([  107,   947,   222, 11467]))\n",
            "(array([[0., 0., 0., 1.],\n",
            "       [0., 0., 1., 0.],\n",
            "       [0., 1., 0., 0.],\n",
            "       [1., 0., 0., 0.]]), array([  388,  3219,  1836, 44218]))\n"
          ],
          "name": "stdout"
        }
      ]
    },
    {
      "cell_type": "code",
      "metadata": {
        "colab": {
          "base_uri": "https://localhost:8080/"
        },
        "id": "IpKMpRCxB817",
        "outputId": "8adf52db-9d7e-4912-bef3-160f3f78e7c5"
      },
      "source": [
        "from keras.activations import relu,sigmoid\n",
        "lr = 0.01\n",
        "\n",
        "\n",
        "model2 = Sequential(\n",
        "      [\n",
        "      Conv1D(3,20,activation=\"relu\",use_bias=False,input_shape=(1000,1)),\n",
        "      \n",
        "      MaxPooling1D(2,strides=2),\n",
        "      \n",
        "      Conv1D(6,10,activation=\"relu\",use_bias=False),\n",
        "\n",
        "      MaxPooling1D(2,strides=2),\n",
        "      \n",
        "      Conv1D(6,5,activation=\"relu\",use_bias=False),\n",
        "\n",
        "      MaxPooling1D(2,strides=2),\n",
        "\n",
        "      LSTM(20,recurrent_dropout=0.2),\n",
        "\n",
        "      Dense(20,activation=\"relu\"),\n",
        "\n",
        "      Dropout(0.2),\n",
        "\n",
        "      Dense(10,activation=\"relu\"),\n",
        "\n",
        "      Dropout(0.2),\n",
        "\n",
        "      Dense(4,activation=\"softmax\")\n",
        "\n",
        "      ])\n",
        "\n",
        "model2.compile(optimizer=Adam(lr), loss=\"categorical_crossentropy\",metrics=['accuracy'])\n",
        "model2.summary()"
      ],
      "execution_count": 32,
      "outputs": [
        {
          "output_type": "stream",
          "text": [
            "Model: \"sequential_7\"\n",
            "_________________________________________________________________\n",
            "Layer (type)                 Output Shape              Param #   \n",
            "=================================================================\n",
            "conv1d_21 (Conv1D)           (None, 981, 3)            60        \n",
            "_________________________________________________________________\n",
            "max_pooling1d_21 (MaxPooling (None, 490, 3)            0         \n",
            "_________________________________________________________________\n",
            "conv1d_22 (Conv1D)           (None, 481, 6)            180       \n",
            "_________________________________________________________________\n",
            "max_pooling1d_22 (MaxPooling (None, 240, 6)            0         \n",
            "_________________________________________________________________\n",
            "conv1d_23 (Conv1D)           (None, 236, 6)            180       \n",
            "_________________________________________________________________\n",
            "max_pooling1d_23 (MaxPooling (None, 118, 6)            0         \n",
            "_________________________________________________________________\n",
            "lstm_7 (LSTM)                (None, 20)                2160      \n",
            "_________________________________________________________________\n",
            "dense_21 (Dense)             (None, 20)                420       \n",
            "_________________________________________________________________\n",
            "dropout_14 (Dropout)         (None, 20)                0         \n",
            "_________________________________________________________________\n",
            "dense_22 (Dense)             (None, 10)                210       \n",
            "_________________________________________________________________\n",
            "dropout_15 (Dropout)         (None, 10)                0         \n",
            "_________________________________________________________________\n",
            "dense_23 (Dense)             (None, 4)                 44        \n",
            "=================================================================\n",
            "Total params: 3,254\n",
            "Trainable params: 3,254\n",
            "Non-trainable params: 0\n",
            "_________________________________________________________________\n"
          ],
          "name": "stdout"
        }
      ]
    },
    {
      "cell_type": "code",
      "metadata": {
        "id": "PHcBFVA0B_ty"
      },
      "source": [
        "log2 = model2.fit(x_train, \n",
        "                y_train, \n",
        "                batch_size=1024, \n",
        "                epochs=30, \n",
        "                validation_data=(x_val, y_val),\n",
        "                verbose=1,             \n",
        "                )"
      ],
      "execution_count": 34,
      "outputs": []
    },
    {
      "cell_type": "code",
      "metadata": {
        "id": "aw6reOnjF0AF"
      },
      "source": [
        "model2.save('model_v2.h5')"
      ],
      "execution_count": 60,
      "outputs": []
    },
    {
      "cell_type": "code",
      "metadata": {
        "id": "j94B6HvdXY0b"
      },
      "source": [
        "from keras import models\n",
        "new_model = models.load_model('model_v2.h5')"
      ],
      "execution_count": 48,
      "outputs": []
    },
    {
      "cell_type": "code",
      "metadata": {
        "id": "Ee9CKXFwP_EO"
      },
      "source": [
        "y_pred_raw = new_model.predict(x_test)"
      ],
      "execution_count": 49,
      "outputs": []
    },
    {
      "cell_type": "code",
      "metadata": {
        "colab": {
          "base_uri": "https://localhost:8080/"
        },
        "id": "k-sWaggKV7Y6",
        "outputId": "75fd4069-a9d9-4517-baf0-42d9965a64c1"
      },
      "source": [
        "y_pred_raw.shape"
      ],
      "execution_count": 50,
      "outputs": [
        {
          "output_type": "execute_result",
          "data": {
            "text/plain": [
              "(49661, 4)"
            ]
          },
          "metadata": {
            "tags": []
          },
          "execution_count": 50
        }
      ]
    },
    {
      "cell_type": "code",
      "metadata": {
        "id": "f-zLDZAghKvv"
      },
      "source": [
        "y_pred = np.argmax(y_pred_raw,axis=1)"
      ],
      "execution_count": 51,
      "outputs": []
    },
    {
      "cell_type": "code",
      "metadata": {
        "id": "KN44q339hK4p"
      },
      "source": [
        "y_true = np.argmax(y_test,axis=1)"
      ],
      "execution_count": 52,
      "outputs": []
    },
    {
      "cell_type": "code",
      "metadata": {
        "colab": {
          "base_uri": "https://localhost:8080/"
        },
        "id": "1lSVYqJ_pQLc",
        "outputId": "3786f9d2-dda3-4560-a4a1-dcc93f5f8586"
      },
      "source": [
        "print(np.unique(y_pred,axis=0,return_counts=True))\n",
        "print(np.unique(y_test,axis=0,return_counts=True))"
      ],
      "execution_count": 53,
      "outputs": [
        {
          "output_type": "stream",
          "text": [
            "(array([0, 2]), array([48667,   994]))\n",
            "(array([[0., 0., 0., 1.],\n",
            "       [0., 0., 1., 0.],\n",
            "       [0., 1., 0., 0.],\n",
            "       [1., 0., 0., 0.]]), array([  388,  3219,  1836, 44218]))\n"
          ],
          "name": "stdout"
        }
      ]
    },
    {
      "cell_type": "code",
      "metadata": {
        "colab": {
          "base_uri": "https://localhost:8080/"
        },
        "id": "Z0tGoReohK9H",
        "outputId": "19e46b04-4c80-4389-c329-5d626c661e9c"
      },
      "source": [
        "y_pred.shape"
      ],
      "execution_count": 54,
      "outputs": [
        {
          "output_type": "execute_result",
          "data": {
            "text/plain": [
              "(49661,)"
            ]
          },
          "metadata": {
            "tags": []
          },
          "execution_count": 54
        }
      ]
    },
    {
      "cell_type": "code",
      "metadata": {
        "colab": {
          "base_uri": "https://localhost:8080/"
        },
        "id": "HCuImd6cWmJY",
        "outputId": "91b3be7a-2117-4135-cce3-681d643ce26c"
      },
      "source": [
        "y_true.shape"
      ],
      "execution_count": 55,
      "outputs": [
        {
          "output_type": "execute_result",
          "data": {
            "text/plain": [
              "(49661,)"
            ]
          },
          "metadata": {
            "tags": []
          },
          "execution_count": 55
        }
      ]
    },
    {
      "cell_type": "markdown",
      "metadata": {
        "id": "DQ7HeJkrey_l"
      },
      "source": [
        "0 = [1,0,0,0], 1 = [0,1,0,0], 2 = [0,0,1,0], 3 = [0,0,0,1]"
      ]
    },
    {
      "cell_type": "code",
      "metadata": {
        "id": "EWylbx-Jhr-8"
      },
      "source": [
        "cm = confusion_matrix(y_true,y_pred)"
      ],
      "execution_count": 56,
      "outputs": []
    },
    {
      "cell_type": "code",
      "metadata": {
        "id": "Kky5eG6SneNg"
      },
      "source": [
        "def plot_confusion_matrix(cm,target_names,title='Confusion matrix',cmap=None,normalize=True):\n",
        "    import matplotlib.pyplot as plt\n",
        "    import numpy as np\n",
        "    import itertools\n",
        "\n",
        "    accuracy = np.trace(cm) / float(np.sum(cm))\n",
        "    misclass = 1 - accuracy\n",
        "\n",
        "    if cmap is None:\n",
        "        cmap = plt.get_cmap('Blues')\n",
        "\n",
        "    plt.figure(figsize=(8, 6))\n",
        "    plt.imshow(cm, interpolation='nearest', cmap=cmap)\n",
        "    plt.title(title)\n",
        "    plt.colorbar()\n",
        "\n",
        "    if target_names is not None:\n",
        "        tick_marks = np.arange(len(target_names))\n",
        "        plt.xticks(tick_marks, target_names, rotation=45)\n",
        "        plt.yticks(tick_marks, target_names)\n",
        "\n",
        "    if normalize:\n",
        "        cm = cm.astype('float') / cm.sum(axis=1)[:, np.newaxis]\n",
        "\n",
        "\n",
        "    thresh = cm.max() / 1.5 if normalize else cm.max() / 2\n",
        "    for i, j in itertools.product(range(cm.shape[0]), range(cm.shape[1])):\n",
        "        if normalize:\n",
        "            plt.text(j, i, \"{:0.4f}\".format(cm[i, j]),\n",
        "                     horizontalalignment=\"center\",\n",
        "                     color=\"white\" if cm[i, j] > thresh else \"black\")\n",
        "        else:\n",
        "            plt.text(j, i, \"{:,}\".format(cm[i, j]),\n",
        "                     horizontalalignment=\"center\",\n",
        "                     color=\"white\" if cm[i, j] > thresh else \"black\")\n",
        "\n",
        "\n",
        "    plt.tight_layout()\n",
        "    plt.ylabel('True label')\n",
        "    plt.xlabel('Predicted label\\naccuracy={:0.4f}; misclass={:0.4f}'.format(accuracy, misclass))\n",
        "    plt.savefig('confussion_matrix_modelo_v2.png', dpi=300, bbox_inches='tight')\n",
        "    plt.show()"
      ],
      "execution_count": 63,
      "outputs": []
    },
    {
      "cell_type": "code",
      "metadata": {
        "colab": {
          "base_uri": "https://localhost:8080/",
          "height": 467
        },
        "id": "YDmMe5P7ngnr",
        "outputId": "7df8bf9f-0eb1-4bcb-ac1c-c927634c47ef"
      },
      "source": [
        "target_names = [\"N\",\"SVEB\",\"VEB\",\"F\"]\n",
        "plot_confusion_matrix(cm,target_names,title='Confusion matrix',cmap=None,normalize=True)"
      ],
      "execution_count": 64,
      "outputs": [
        {
          "output_type": "display_data",
          "data": {
            "image/png": "[encoded data removed]",
            "text/plain": [
              "<Figure size 576x432 with 2 Axes>"
            ]
          },
          "metadata": {
            "tags": [],
            "needs_background": "light"
          }
        }
      ]
    },
    {
      "cell_type": "code",
      "metadata": {
        "colab": {
          "base_uri": "https://localhost:8080/"
        },
        "id": "V0hTXtfKieCh",
        "outputId": "96ca1bf4-f5b5-4bd5-e463-f3848c927f9d"
      },
      "source": [
        "print(classification_report(y_true,y_pred))"
      ],
      "execution_count": 68,
      "outputs": [
        {
          "output_type": "stream",
          "text": [
            "              precision    recall  f1-score   support\n",
            "\n",
            "           0       0.89      0.98      0.93     44218\n",
            "           1       0.00      0.00      0.00      1836\n",
            "           2       0.12      0.04      0.06      3219\n",
            "           3       0.00      0.00      0.00       388\n",
            "\n",
            "    accuracy                           0.88     49661\n",
            "   macro avg       0.25      0.25      0.25     49661\n",
            "weighted avg       0.80      0.88      0.84     49661\n",
            "\n"
          ],
          "name": "stdout"
        },
        {
          "output_type": "stream",
          "text": [
            "/usr/local/lib/python3.7/dist-packages/sklearn/metrics/_classification.py:1272: UndefinedMetricWarning: Precision and F-score are ill-defined and being set to 0.0 in labels with no predicted samples. Use `zero_division` parameter to control this behavior.\n",
            "  _warn_prf(average, modifier, msg_start, len(result))\n"
          ],
          "name": "stderr"
        }
      ]
    },
    {
      "cell_type": "code",
      "metadata": {
        "id": "0zIN4aFbmT6o"
      },
      "source": [
        ""
      ],
      "execution_count": null,
      "outputs": []
    }
  ]
}